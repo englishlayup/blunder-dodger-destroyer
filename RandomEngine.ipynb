{
 "cells": [
  {
   "cell_type": "code",
   "execution_count": 2,
   "metadata": {},
   "outputs": [],
   "source": [
    "import gym\n",
    "import gym_chess\n",
    "import random\n",
    "from IPython.display import clear_output\n",
    "import time"
   ]
  },
  {
   "cell_type": "code",
   "execution_count": 3,
   "metadata": {
    "tags": []
   },
   "outputs": [
    {
     "name": "stdout",
     "output_type": "stream",
     "text": [
      "⭘ ⭘ ⭘ ⭘ ⭘ ⭘ ⭘ ⭘\n",
      "⭘ ⭘ ⭘ ⭘ ⭘ ⭘ ⭘ ⭘\n",
      "⭘ ⭘ ⭘ ⭘ ⭘ ⭘ ⭘ ⭘\n",
      "⭘ ♔ ⭘ ⭘ ⭘ ⭘ ⭘ ⭘\n",
      "⭘ ⭘ ⭘ ⭘ ⭘ ⭘ ⭘ ⭘\n",
      "⭘ ⭘ ⭘ ⭘ ⭘ ⭘ ⭘ ⭘\n",
      "⭘ ⭘ ⭘ ⭘ ⭘ ⭘ ⭘ ⭘\n",
      "⭘ ⭘ ⭘ ⭘ ⭘ ♚ ⭘ ⭘\n"
     ]
    }
   ],
   "source": [
    "env = gym.make('Chess-v0')\n",
    "print(env.render())\n",
    "\n",
    "env.reset()\n",
    "done = False\n",
    "\n",
    "\n",
    "while not done:\n",
    "    clear_output(wait=True)\n",
    "    action = random.choice(env.legal_moves)\n",
    "    observation, reward, done, _ = env.step(action)\n",
    "    print(env.render(mode='unicode'))\n",
    "    time.sleep(0.05)\n",
    "\n",
    "env.close()"
   ]
  },
  {
   "cell_type": "code",
   "execution_count": 10,
   "metadata": {
    "collapsed": false,
    "jupyter": {
     "outputs_hidden": false
    },
    "pycharm": {
     "name": "#%%\n"
    }
   },
   "outputs": [
    {
     "data": {
      "text/plain": [
       "list"
      ]
     },
     "execution_count": 10,
     "metadata": {},
     "output_type": "execute_result"
    }
   ],
   "source": [
    "env.reset()\n",
    "type(env.legal_moves)"
   ]
  },
  {
   "cell_type": "code",
   "execution_count": 5,
   "metadata": {
    "collapsed": false,
    "jupyter": {
     "outputs_hidden": false
    },
    "pycharm": {
     "name": "#%%\n"
    }
   },
   "outputs": [
    {
     "data": {
      "text/plain": [
       "\u001B[0;31mType:\u001B[0m        module\n",
       "\u001B[0;31mString form:\u001B[0m <module 'gym_chess' from '/home/englishlayup/anaconda3/lib/python3.8/site-packages/gym_chess/__init__.py'>\n",
       "\u001B[0;31mFile:\u001B[0m        ~/anaconda3/lib/python3.8/site-packages/gym_chess/__init__.py\n",
       "\u001B[0;31mDocstring:\u001B[0m  \n",
       "OpenAI Gym environments for the game of chess.\n",
       "\n",
       "This package provides two environments for the game of chess: \n",
       "\n",
       " - a basic `Chess-v0` environment, which encodes observations and actions as\n",
       "   objects of type `chess.Board` and `chess.Move` objects, respectivly \n",
       "\n",
       " - a `ChessAlphaZero-v0' environment, which uses the board and move encoding\n",
       "   proposed in [Silver et al., 2017]. \n",
       "\n",
       "Example:\n",
       "    >>> import gym\n",
       "    >>> import gym_chess\n",
       "\n",
       "    >>> env = gym.make('Chess-v0')\n",
       "    >>> env = gym.make('ChessAlphaZero-v0')\n"
      ]
     },
     "metadata": {},
     "output_type": "display_data"
    }
   ],
   "source": []
  },
  {
   "cell_type": "code",
   "execution_count": null,
   "metadata": {},
   "outputs": [],
   "source": []
  }
 ],
 "metadata": {
  "kernelspec": {
   "display_name": "Python 3",
   "language": "python",
   "name": "python3"
  },
  "language_info": {
   "codemirror_mode": {
    "name": "ipython",
    "version": 3
   },
   "file_extension": ".py",
   "mimetype": "text/x-python",
   "name": "python",
   "nbconvert_exporter": "python",
   "pygments_lexer": "ipython3",
   "version": "3.8.8"
  }
 },
 "nbformat": 4,
 "nbformat_minor": 4
}