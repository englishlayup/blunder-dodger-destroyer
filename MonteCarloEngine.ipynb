{
 "cells": [
  {
   "cell_type": "code",
   "execution_count": 1,
   "metadata": {},
   "outputs": [],
   "source": [
    "import gym\n",
    "import gym_chess\n",
    "import random\n",
    "from IPython.display import clear_output\n",
    "import time"
   ]
  },
  {
   "cell_type": "code",
   "execution_count": null,
   "metadata": {},
   "outputs": [],
   "source": [
    "class Node:\n",
    "    def __init__():\n",
    "        \n",
    "    "
   ]
  },
  {
   "cell_type": "code",
   "execution_count": 2,
   "metadata": {
    "pycharm": {
     "name": "#%%\n"
    }
   },
   "outputs": [
    {
     "ename": "SyntaxError",
     "evalue": "invalid syntax (1635947435.py, line 5)",
     "output_type": "error",
     "traceback": [
      "\u001b[0;36m  File \u001b[0;32m\"/tmp/ipykernel_9546/1635947435.py\"\u001b[0;36m, line \u001b[0;32m5\u001b[0m\n\u001b[0;31m    while resources_left(time, computational power):\u001b[0m\n\u001b[0m                                             ^\u001b[0m\n\u001b[0;31mSyntaxError\u001b[0m\u001b[0;31m:\u001b[0m invalid syntax\n"
     ]
    }
   ],
   "source": [
    "class MonteCarloAgent:\n",
    "\n",
    "    # main function for the Monte Carlo Tree Search\n",
    "    def monte_carlo_tree_search(root):\n",
    "        while resources_left(time, computational power):\n",
    "            leaf = traverse(root)\n",
    "            simulation_result = rollout(leaf)\n",
    "            backpropagate(leaf, simulation_result)\n",
    "\n",
    "        return best_child(root)\n",
    "\n",
    "    # function for node traversal\n",
    "    def traverse(node):\n",
    "        while fully_expanded(node):\n",
    "            node = best_uct(node)\n",
    "\n",
    "        # in case no children are present / node is terminal\n",
    "        return pick_univisted(node.children) or node\n",
    "\n",
    "    # function for the result of the simulation\n",
    "    def rollout(node):\n",
    "        while non_terminal(node):\n",
    "            node = rollout_policy(node)\n",
    "        return result(node)\n",
    "\n",
    "    # function for randomly selecting a child node\n",
    "    def rollout_policy(node):\n",
    "        return pick_random(node.children)\n",
    "\n",
    "    # function for backpropagation\n",
    "    def backpropagate(node, result):\n",
    "        if is_root(node) return\n",
    "        node.stats = update_stats(node, result)\n",
    "        backpropagate(node.parent)\n",
    "\n",
    "    # function for selecting the best child\n",
    "    # node with highest number of visits\n",
    "    def best_child(node):\n",
    "        # pick child with highest number of visits"
   ]
  },
  {
   "cell_type": "code",
   "execution_count": null,
   "metadata": {},
   "outputs": [],
   "source": []
  }
 ],
 "metadata": {
  "kernelspec": {
   "display_name": "Python 3 (ipykernel)",
   "language": "python",
   "name": "python3"
  },
  "language_info": {
   "codemirror_mode": {
    "name": "ipython",
    "version": 3
   },
   "file_extension": ".py",
   "mimetype": "text/x-python",
   "name": "python",
   "nbconvert_exporter": "python",
   "pygments_lexer": "ipython3",
   "version": "3.8.10"
  }
 },
 "nbformat": 4,
 "nbformat_minor": 1
}
