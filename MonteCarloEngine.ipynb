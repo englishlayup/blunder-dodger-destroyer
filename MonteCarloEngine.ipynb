{
 "cells": [
  {
   "cell_type": "code",
   "execution_count": 11,
   "metadata": {},
   "outputs": [],
   "source": [
    "import chess\n",
    "import gym_chess\n",
    "import gym\n",
    "import random\n",
    "from IPython.display import display, clear_output\n",
    "import time\n",
    "import numpy as np\n",
    "\n",
    "C = np.sqrt(2)\n"
   ]
  },
  {
   "cell_type": "code",
   "execution_count": 12,
   "metadata": {},
   "outputs": [],
   "source": [
    "select_t = 0\n",
    "expand_t = 0\n",
    "simulate_t = 0\n",
    "backprop_t = 0\n",
    "total_t = 0"
   ]
  },
  {
   "cell_type": "code",
   "execution_count": 30,
   "metadata": {},
   "outputs": [],
   "source": [
    "class Node:\n",
    "    def __init__(self, board, parent=None):\n",
    "        self.state = board\n",
    "        self.utility = 0\n",
    "        self.n_playthrough = 0\n",
    "        self.parent = parent\n",
    "        self.children = list()\n",
    "        \n",
    "    def UCB1(self):\n",
    "        return self.utility/self.n_playthrough + C*np.sqrt(np.log(self.parent.n_playthrough)/self.n_playthrough)\n",
    "    \n",
    "    def peek(self):\n",
    "        return self.state.peek()\n"
   ]
  },
  {
   "cell_type": "code",
   "execution_count": 31,
   "metadata": {
    "pycharm": {
     "name": "#%%\n"
    }
   },
   "outputs": [],
   "source": [
    "class MonteCarloAgent:\n",
    "    # main function for the Monte Carlo Tree Search\n",
    "    def monte_carlo_tree_search(self, state):\n",
    "#         global select_t\n",
    "#         global expand_t\n",
    "#         global simulate_t\n",
    "#         global backprop_t\n",
    "#         global total_t\n",
    "        \n",
    "        tree = Node(state)\n",
    "        for i in range(2000):\n",
    "#             start = time.perf_counter()\n",
    "            leaf = self.select(tree)\n",
    "#             select_t += time.perf_counter() - start\n",
    "            \n",
    "#             start = time.perf_counter()\n",
    "            child = self.expand(leaf)\n",
    "#             expand_t += time.perf_counter() - start\n",
    "            \n",
    "#             start = time.perf_counter()\n",
    "            result = self.simulate(child)\n",
    "#             simulate_t += time.perf_counter() - start\n",
    "            \n",
    "#             start = time.perf_counter()\n",
    "            if not result == state.turn:\n",
    "                self.back_prop(0, child)\n",
    "            else:\n",
    "                self.back_prop(1, child)\n",
    "#             backprop_t += time.perf_counter() - start\n",
    "            \n",
    "        return max(tree.children, key=lambda k: k.n_playthrough).peek()\n",
    "    \n",
    "    def select(self, tree):\n",
    "        while tree.children:\n",
    "            tree = self.select(max(tree.children, key=lambda k: k.UCB1()))\n",
    "        \n",
    "        return tree\n",
    "    \n",
    "    def expand(self, leaf):\n",
    "        assert not leaf.children, 'This guy is not a leaf'\n",
    "        _board = leaf.state.copy()\n",
    "        if _board.legal_moves:\n",
    "            move = random.choice(list(_board.legal_moves))\n",
    "            _board.push(move) \n",
    "            leaf.children.append(Node(_board, leaf))\n",
    "            return leaf.children[0]        \n",
    "        # if the current node is checkmated, i.e. no legal moves\n",
    "        # then return the current node \n",
    "        return leaf\n",
    "    \n",
    "    def simulate(self, child):\n",
    "        _board = child.state.copy()\n",
    "        while not _board.is_game_over():\n",
    "            move = random.choice(list(_board.legal_moves))\n",
    "            _board.push(move)\n",
    "            \n",
    "            # simulate would take forever without this if statement\n",
    "            # basically the game would go on forever with 2 kings moving around without this check\n",
    "            if not _board.has_insufficient_material(_board.turn) or _board.can_claim_fifty_moves():\n",
    "                return not _board.turn\n",
    "            \n",
    "        return _board.outcome().winner\n",
    "        \n",
    "    def back_prop(self, result, child):\n",
    "        while child:\n",
    "            child.n_playthrough += 1\n",
    "            child.utility += result\n",
    "            child = child.parent"
   ]
  },
  {
   "cell_type": "code",
   "execution_count": 32,
   "metadata": {},
   "outputs": [
    {
     "name": "stdout",
     "output_type": "stream",
     "text": [
      "♜ ♞ ♝ ♛ ♚ ♝ ♞ ♜\n",
      "♟ ♟ ♟ ♟ ♟ ♟ ♟ ♟\n",
      "⭘ ⭘ ⭘ ⭘ ⭘ ⭘ ⭘ ⭘\n",
      "⭘ ⭘ ⭘ ⭘ ⭘ ⭘ ⭘ ⭘\n",
      "⭘ ⭘ ⭘ ⭘ ⭘ ⭘ ⭘ ⭘\n",
      "⭘ ⭘ ⭘ ⭘ ⭘ ⭘ ⭘ ⭘\n",
      "♙ ♙ ♙ ♙ ♙ ♙ ♙ ♙\n",
      "♖ ♘ ♗ ♕ ♔ ♗ ♘ ♖\n",
      "True\n",
      "         64620562 function calls (62621562 primitive calls) in 28.941 seconds\n",
      "\n",
      "   Ordered by: internal time\n",
      "\n",
      "   ncalls  tottime  percall  cumtime  percall filename:lineno(function)\n",
      "  1999000    6.024    0.000    6.024    0.000 C:\\Users\\engli\\AppData\\Local\\Temp/ipykernel_21408/2438834728.py:9(UCB1)\n",
      "  4000000    5.716    0.000   17.523    0.000 C:\\Users\\engli\\AppData\\Local\\Programs\\Python\\Python38\\lib\\copy.py:66(copy)\n",
      "  4000000    3.144    0.000    7.712    0.000 C:\\Users\\engli\\AppData\\Local\\Programs\\Python\\Python38\\lib\\copy.py:258(_reconstruct)\n",
      "  4002361    2.172    0.000    2.172    0.000 {built-in method __new__ of type object at 0x00007FF8EBD1A810}\n",
      "  8000000    1.668    0.000    1.668    0.000 {built-in method builtins.getattr}\n",
      "2001000/2000    1.420    0.000    9.083    0.005 C:\\Users\\engli\\AppData\\Local\\Temp/ipykernel_21408/3232594914.py:33(select)\n",
      "  4000000    1.138    0.000    1.138    0.000 {method '__reduce_ex__' of 'object' objects}\n",
      "  1999001    1.098    0.000    7.664    0.000 {built-in method builtins.max}\n",
      "     4001    0.976    0.000   18.499    0.005 d:\\dev\\blunder-dodger-destroyer\\venv\\lib\\site-packages\\chess\\__init__.py:3663(<listcomp>)\n",
      "  4000000    0.971    0.000    3.143    0.000 C:\\Users\\engli\\AppData\\Local\\Programs\\Python\\Python38\\lib\\copyreg.py:90(__newobj__)\n",
      "  4000000    0.753    0.000    0.753    0.000 {method 'update' of 'dict' objects}\n",
      "     2000    0.690    0.000    0.690    0.000 C:\\Users\\engli\\AppData\\Local\\Temp/ipykernel_21408/3232594914.py:64(back_prop)\n",
      "  8000000    0.660    0.000    0.660    0.000 {method 'get' of 'dict' objects}\n",
      "  8000000    0.645    0.000    0.645    0.000 {built-in method builtins.isinstance}\n",
      "  1999000    0.542    0.000    6.565    0.000 C:\\Users\\engli\\AppData\\Local\\Temp/ipykernel_21408/3232594914.py:35(<lambda>)\n",
      "  4000000    0.356    0.000    0.356    0.000 {built-in method builtins.hasattr}\n",
      "  4000000    0.301    0.000    0.301    0.000 {built-in method builtins.issubclass}\n",
      "     4001    0.117    0.000   18.664    0.005 d:\\dev\\blunder-dodger-destroyer\\venv\\lib\\site-packages\\chess\\__init__.py:3644(copy)\n",
      "        1    0.075    0.075   28.943   28.943 C:\\Users\\engli\\AppData\\Local\\Temp/ipykernel_21408/3232594914.py:3(monte_carlo_tree_search)\n",
      "    25503    0.055    0.000    0.055    0.000 d:\\dev\\blunder-dodger-destroyer\\venv\\lib\\site-packages\\chess\\__init__.py:753(_attackers_mask)\n",
      "    35038    0.036    0.000    0.075    0.000 d:\\dev\\blunder-dodger-destroyer\\venv\\lib\\site-packages\\chess\\__init__.py:1650(generate_pseudo_legal_moves)\n",
      "    33729    0.030    0.000    0.228    0.000 d:\\dev\\blunder-dodger-destroyer\\venv\\lib\\site-packages\\chess\\__init__.py:3488(generate_legal_moves)\n",
      "     2000    0.026    0.000    9.561    0.005 C:\\Users\\engli\\AppData\\Local\\Temp/ipykernel_21408/3232594914.py:39(expand)\n",
      "     2361    0.021    0.000    0.066    0.000 d:\\dev\\blunder-dodger-destroyer\\venv\\lib\\site-packages\\chess\\__init__.py:2140(push)\n",
      "    17095    0.019    0.000    0.025    0.000 d:\\dev\\blunder-dodger-destroyer\\venv\\lib\\site-packages\\chess\\__init__.py:3136(is_castling)\n",
      "    30587    0.018    0.000    0.093    0.000 d:\\dev\\blunder-dodger-destroyer\\venv\\lib\\site-packages\\chess\\__init__.py:3450(_is_safe)\n",
      "    60397    0.016    0.000    0.019    0.000 d:\\dev\\blunder-dodger-destroyer\\venv\\lib\\site-packages\\chess\\__init__.py:278(scan_reversed)\n",
      "     3641    0.015    0.000    0.079    0.000 d:\\dev\\blunder-dodger-destroyer\\venv\\lib\\site-packages\\chess\\__init__.py:1872(outcome)\n",
      "     4739    0.013    0.000    0.014    0.000 d:\\dev\\blunder-dodger-destroyer\\venv\\lib\\site-packages\\chess\\__init__.py:3431(_slider_blockers)\n",
      "    32948    0.011    0.000    0.011    0.000 <string>:2(__init__)\n",
      "    25473    0.010    0.000    0.065    0.000 d:\\dev\\blunder-dodger-destroyer\\venv\\lib\\site-packages\\chess\\__init__.py:771(attackers_mask)\n",
      "      361    0.009    0.000    0.009    0.000 d:\\dev\\blunder-dodger-destroyer\\venv\\lib\\site-packages\\chess\\__init__.py:2085(is_repetition)\n",
      "     4001    0.009    0.000    0.047    0.000 d:\\dev\\blunder-dodger-destroyer\\venv\\lib\\site-packages\\chess\\__init__.py:1320(copy)\n",
      "     2000    0.008    0.000    9.532    0.005 C:\\Users\\engli\\AppData\\Local\\Temp/ipykernel_21408/3232594914.py:51(simulate)\n",
      "     4001    0.008    0.000    0.038    0.000 d:\\dev\\blunder-dodger-destroyer\\venv\\lib\\site-packages\\chess\\__init__.py:1523(__init__)\n",
      "     8002    0.007    0.000    0.007    0.000 d:\\dev\\blunder-dodger-destroyer\\venv\\lib\\site-packages\\chess\\__init__.py:629(_clear_board)\n",
      "    17093    0.007    0.000    0.047    0.000 d:\\dev\\blunder-dodger-destroyer\\venv\\lib\\site-packages\\chess\\__init__.py:774(is_attacked_by)\n",
      "     4722    0.007    0.000    0.009    0.000 d:\\dev\\blunder-dodger-destroyer\\venv\\lib\\site-packages\\chess\\__init__.py:849(_remove_piece_at)\n",
      "     6722    0.006    0.000    0.006    0.000 {method 'append' of 'list' objects}\n",
      "     2361    0.006    0.000    0.007    0.000 C:\\Users\\engli\\AppData\\Local\\Programs\\Python\\Python38\\lib\\typing.py:868(__new__)\n",
      "     4001    0.006    0.000    0.015    0.000 d:\\dev\\blunder-dodger-destroyer\\venv\\lib\\site-packages\\chess\\__init__.py:1611(clear_board)\n",
      "     2361    0.006    0.000    0.006    0.000 d:\\dev\\blunder-dodger-destroyer\\venv\\lib\\site-packages\\chess\\__init__.py:1373(__init__)\n",
      "     4001    0.005    0.000    0.010    0.000 d:\\dev\\blunder-dodger-destroyer\\venv\\lib\\site-packages\\chess\\__init__.py:601(__init__)\n",
      "    51368    0.005    0.000    0.005    0.000 {method 'bit_length' of 'int' objects}\n",
      "     6751    0.005    0.000    0.005    0.000 d:\\dev\\blunder-dodger-destroyer\\venv\\lib\\site-packages\\chess\\__init__.py:723(attacks_mask)\n",
      "     2361    0.005    0.000    0.017    0.000 d:\\dev\\blunder-dodger-destroyer\\venv\\lib\\site-packages\\chess\\__init__.py:2134(_board_state)\n",
      "     3641    0.005    0.000    0.007    0.000 d:\\dev\\blunder-dodger-destroyer\\venv\\lib\\site-packages\\chess\\__init__.py:712(king)\n",
      "     3641    0.005    0.000    0.025    0.000 d:\\dev\\blunder-dodger-destroyer\\venv\\lib\\site-packages\\chess\\__init__.py:1737(checkers_mask)\n",
      "     4001    0.005    0.000    0.019    0.000 d:\\dev\\blunder-dodger-destroyer\\venv\\lib\\site-packages\\chess\\__init__.py:1593(clear)\n",
      "     9061    0.004    0.000    0.006    0.000 d:\\dev\\blunder-dodger-destroyer\\venv\\lib\\site-packages\\chess\\__init__.py:275(msb)\n",
      "     2000    0.004    0.000    0.074    0.000 d:\\dev\\blunder-dodger-destroyer\\venv\\lib\\site-packages\\chess\\__init__.py:3727(__bool__)\n",
      "     4361    0.004    0.000    0.006    0.000 d:\\dev\\blunder-dodger-destroyer\\venv\\lib\\site-packages\\chess\\__init__.py:1539(legal_moves)\n",
      "    34190    0.004    0.000    0.004    0.000 d:\\dev\\blunder-dodger-destroyer\\venv\\lib\\site-packages\\chess\\__init__.py:199(square_file)\n",
      "     2329    0.004    0.000    0.005    0.000 d:\\dev\\blunder-dodger-destroyer\\venv\\lib\\site-packages\\chess\\__init__.py:3524(generate_castling_moves)\n",
      "     7282    0.004    0.000    0.004    0.000 d:\\dev\\blunder-dodger-destroyer\\venv\\lib\\site-packages\\chess\\__init__.py:1948(has_insufficient_material)\n",
      "     3641    0.004    0.000    0.014    0.000 d:\\dev\\blunder-dodger-destroyer\\venv\\lib\\site-packages\\chess\\__init__.py:1941(is_insufficient_material)\n",
      "     2361    0.004    0.000    0.005    0.000 d:\\dev\\blunder-dodger-destroyer\\venv\\lib\\site-packages\\chess\\__init__.py:885(_set_piece_at)\n",
      "     4001    0.004    0.000    0.005    0.000 d:\\dev\\blunder-dodger-destroyer\\venv\\lib\\site-packages\\chess\\__init__.py:1615(clear_stack)\n",
      "    10562    0.003    0.000    0.007    0.000 d:\\dev\\blunder-dodger-destroyer\\venv\\lib\\site-packages\\chess\\__init__.py:1946(<genexpr>)\n",
      "     3641    0.003    0.000    0.028    0.000 d:\\dev\\blunder-dodger-destroyer\\venv\\lib\\site-packages\\chess\\__init__.py:1749(is_check)\n",
      "     2001    0.003    0.000    0.068    0.000 d:\\dev\\blunder-dodger-destroyer\\venv\\lib\\site-packages\\chess\\__init__.py:1865(is_game_over)\n",
      "     2361    0.003    0.000    0.007    0.000 C:\\Users\\engli\\AppData\\Local\\Programs\\Python\\Python38\\lib\\random.py:285(choice)\n",
      "     7083    0.003    0.000    0.003    0.000 d:\\dev\\blunder-dodger-destroyer\\venv\\lib\\site-packages\\chess\\__init__.py:683(piece_type_at)\n",
      "     2398    0.003    0.000    0.072    0.000 {built-in method builtins.any}\n",
      "     3641    0.003    0.000    0.010    0.000 {built-in method builtins.all}\n",
      "     2361    0.003    0.000    0.004    0.000 C:\\Users\\engli\\AppData\\Local\\Programs\\Python\\Python38\\lib\\random.py:250(_randbelow_with_getrandbits)\n",
      "     2361    0.003    0.000    0.003    0.000 d:\\dev\\blunder-dodger-destroyer\\venv\\lib\\site-packages\\chess\\__init__.py:3111(is_zeroing)\n",
      "     2363    0.002    0.000    0.003    0.000 d:\\dev\\blunder-dodger-destroyer\\venv\\lib\\site-packages\\chess\\__init__.py:3554(_from_chess960)\n",
      "     3641    0.002    0.000    0.031    0.000 d:\\dev\\blunder-dodger-destroyer\\venv\\lib\\site-packages\\chess\\__init__.py:1924(is_checkmate)\n",
      "     2001    0.002    0.000    0.002    0.000 C:\\Users\\engli\\AppData\\Local\\Temp/ipykernel_21408/2438834728.py:2(__init__)\n",
      "    13492    0.002    0.000    0.002    0.000 d:\\dev\\blunder-dodger-destroyer\\venv\\lib\\site-packages\\chess\\__init__.py:3099(is_en_passant)\n",
      "     4001    0.002    0.000    0.004    0.000 d:\\dev\\blunder-dodger-destroyer\\venv\\lib\\site-packages\\chess\\__init__.py:643(clear_board)\n",
      "     4361    0.002    0.000    0.002    0.000 d:\\dev\\blunder-dodger-destroyer\\venv\\lib\\site-packages\\chess\\__init__.py:3724(__init__)\n",
      "    17095    0.002    0.000    0.002    0.000 {built-in method builtins.abs}\n",
      "     4739    0.002    0.000    0.002    0.000 d:\\dev\\blunder-dodger-destroyer\\venv\\lib\\site-packages\\chess\\__init__.py:540(__bool__)\n",
      "     6362    0.001    0.000    0.001    0.000 {built-in method builtins.len}\n",
      "     2361    0.001    0.000    0.001    0.000 d:\\dev\\blunder-dodger-destroyer\\venv\\lib\\site-packages\\chess\\__init__.py:3569(_to_chess960)\n",
      "     8002    0.001    0.000    0.001    0.000 {method 'clear' of 'list' objects}\n",
      "     7066    0.001    0.000    0.001    0.000 d:\\dev\\blunder-dodger-destroyer\\venv\\lib\\site-packages\\chess\\__init__.py:1832(is_variant_end)\n",
      "     2820    0.001    0.000    0.001    0.000 d:\\dev\\blunder-dodger-destroyer\\venv\\lib\\site-packages\\chess\\__init__.py:3155(clean_castling_rights)\n",
      "     2361    0.001    0.000    0.001    0.000 d:\\dev\\blunder-dodger-destroyer\\venv\\lib\\site-packages\\chess\\__init__.py:3734(__iter__)\n",
      "     3940    0.001    0.000    0.001    0.000 {method 'getrandbits' of '_random.Random' objects}\n",
      "     3641    0.001    0.000    0.001    0.000 d:\\dev\\blunder-dodger-destroyer\\venv\\lib\\site-packages\\chess\\__init__.py:1845(is_variant_loss)\n",
      "     3641    0.001    0.000    0.001    0.000 d:\\dev\\blunder-dodger-destroyer\\venv\\lib\\site-packages\\chess\\__init__.py:1852(is_variant_win)\n",
      "     3641    0.000    0.000    0.000    0.000 d:\\dev\\blunder-dodger-destroyer\\venv\\lib\\site-packages\\chess\\__init__.py:1859(is_variant_draw)\n",
      "      354    0.000    0.000    0.001    0.000 d:\\dev\\blunder-dodger-destroyer\\venv\\lib\\site-packages\\chess\\__init__.py:3463(_generate_evasions)\n",
      "      635    0.000    0.000    0.000    0.000 d:\\dev\\blunder-dodger-destroyer\\venv\\lib\\site-packages\\chess\\__init__.py:440(between)\n",
      "     1556    0.000    0.000    0.000    0.000 d:\\dev\\blunder-dodger-destroyer\\venv\\lib\\site-packages\\chess\\__init__.py:203(square_rank)\n",
      "      361    0.000    0.000    0.009    0.000 d:\\dev\\blunder-dodger-destroyer\\venv\\lib\\site-packages\\chess\\__init__.py:1995(is_fivefold_repetition)\n",
      "      361    0.000    0.000    0.000    0.000 d:\\dev\\blunder-dodger-destroyer\\venv\\lib\\site-packages\\chess\\__init__.py:1986(is_seventyfive_moves)\n",
      "      362    0.000    0.000    0.000    0.000 d:\\dev\\blunder-dodger-destroyer\\venv\\lib\\site-packages\\chess\\__init__.py:1983(_is_halfmoves)\n",
      "       50    0.000    0.000    0.000    0.000 d:\\dev\\blunder-dodger-destroyer\\venv\\lib\\site-packages\\chess\\__init__.py:3522(<genexpr>)\n",
      "      238    0.000    0.000    0.000    0.000 d:\\dev\\blunder-dodger-destroyer\\venv\\lib\\site-packages\\chess\\__init__.py:437(ray)\n",
      "       40    0.000    0.000    0.000    0.000 d:\\dev\\blunder-dodger-destroyer\\venv\\lib\\site-packages\\chess\\__init__.py:285(<lambda>)\n",
      "       40    0.000    0.000    0.000    0.000 {method 'count' of 'str' objects}\n",
      "       14    0.000    0.000    0.000    0.000 d:\\dev\\blunder-dodger-destroyer\\venv\\lib\\site-packages\\chess\\__init__.py:1717(generate_pseudo_legal_ep)\n",
      "       20    0.000    0.000    0.000    0.000 d:\\dev\\blunder-dodger-destroyer\\venv\\lib\\site-packages\\chess\\__init__.py:3521(_attacked_for_king)\n",
      "       40    0.000    0.000    0.000    0.000 {built-in method builtins.bin}\n",
      "       55    0.000    0.000    0.000    0.000 d:\\dev\\blunder-dodger-destroyer\\venv\\lib\\site-packages\\chess\\__init__.py:2137(_push_capture)\n",
      "        1    0.000    0.000    0.000    0.000 C:\\Users\\engli\\AppData\\Local\\Programs\\Python\\Python38\\lib\\cProfile.py:133(__exit__)\n",
      "        1    0.000    0.000    0.000    0.000 C:\\Users\\engli\\AppData\\Local\\Temp/ipykernel_21408/2438834728.py:12(peek)\n",
      "        1    0.000    0.000    0.000    0.000 d:\\dev\\blunder-dodger-destroyer\\venv\\lib\\site-packages\\chess\\__init__.py:2016(can_claim_fifty_moves)\n",
      "        1    0.000    0.000    0.000    0.000 d:\\dev\\blunder-dodger-destroyer\\venv\\lib\\site-packages\\gym_chess\\envs.py:144(_observation)\n",
      "        1    0.000    0.000    0.000    0.000 {method 'disable' of '_lsprof.Profiler' objects}\n",
      "        1    0.000    0.000    0.000    0.000 d:\\dev\\blunder-dodger-destroyer\\venv\\lib\\site-packages\\chess\\__init__.py:2013(is_fifty_moves)\n",
      "        1    0.000    0.000    0.000    0.000 d:\\dev\\blunder-dodger-destroyer\\venv\\lib\\site-packages\\chess\\__init__.py:2271(peek)\n",
      "        1    0.000    0.000    0.000    0.000 C:\\Users\\engli\\AppData\\Local\\Temp/ipykernel_21408/3232594914.py:31(<lambda>)\n",
      "\n",
      "\n"
     ]
    }
   ],
   "source": [
    "import cProfile\n",
    "import pstats\n",
    "\n",
    "env = gym.make('Chess-v0')\n",
    "env.reset()\n",
    "print(env.render())\n",
    "done = False\n",
    "agent = MonteCarloAgent()\n",
    "\n",
    "select_t = 0\n",
    "expand_t = 0\n",
    "simulate_t = 0\n",
    "backprop_t = 0\n",
    "total_t = 0\n",
    "\n",
    "# while not done:\n",
    "clear_output(wait=True)\n",
    "print(env.render())\n",
    "print(f'{env._observation().turn}')\n",
    "if env._observation().turn:\n",
    "#         start = time.perf_counter()\n",
    "    with cProfile.Profile() as pr:\n",
    "        action = agent.monte_carlo_tree_search(env._observation())\n",
    "#         total_t += time.perf_counter() - start\n",
    "else:\n",
    "    action = random.choice(env.legal_moves)\n",
    "observation, reward, done, _ = env.step(action)\n",
    "\n",
    "stats = pstats.Stats(pr)\n",
    "stats.sort_stats(pstats.SortKey.TIME)\n",
    "stats.print_stats()\n",
    "\n",
    "# print(reward)\n",
    "env.close()\n",
    "    "
   ]
  },
  {
   "cell_type": "code",
   "execution_count": 22,
   "metadata": {},
   "outputs": [
    {
     "data": {
      "text/plain": [
       "'Time to select: 0'"
      ]
     },
     "execution_count": 22,
     "metadata": {},
     "output_type": "execute_result"
    }
   ],
   "source": [
    "f'Time to select: {select_t}'"
   ]
  },
  {
   "cell_type": "code",
   "execution_count": 23,
   "metadata": {},
   "outputs": [
    {
     "data": {
      "text/plain": [
       "'Time to expand: 0'"
      ]
     },
     "execution_count": 23,
     "metadata": {},
     "output_type": "execute_result"
    }
   ],
   "source": [
    "f'Time to expand: {expand_t}'"
   ]
  },
  {
   "cell_type": "code",
   "execution_count": 24,
   "metadata": {},
   "outputs": [
    {
     "data": {
      "text/plain": [
       "'Time to simulate: 0'"
      ]
     },
     "execution_count": 24,
     "metadata": {},
     "output_type": "execute_result"
    }
   ],
   "source": [
    "f'Time to simulate: {simulate_t}'"
   ]
  },
  {
   "cell_type": "code",
   "execution_count": 25,
   "metadata": {},
   "outputs": [
    {
     "data": {
      "text/plain": [
       "'Time to backprop: 0'"
      ]
     },
     "execution_count": 25,
     "metadata": {},
     "output_type": "execute_result"
    }
   ],
   "source": [
    "f'Time to backprop: {backprop_t}'"
   ]
  },
  {
   "cell_type": "code",
   "execution_count": 26,
   "metadata": {},
   "outputs": [
    {
     "data": {
      "text/plain": [
       "'Total time: 0'"
      ]
     },
     "execution_count": 26,
     "metadata": {},
     "output_type": "execute_result"
    }
   ],
   "source": [
    "f'Total time: {total_t}'"
   ]
  },
  {
   "cell_type": "code",
   "execution_count": null,
   "metadata": {},
   "outputs": [],
   "source": []
  }
 ],
 "metadata": {
  "kernelspec": {
   "display_name": "Python 3 (ipykernel)",
   "language": "python",
   "name": "python3"
  },
  "language_info": {
   "codemirror_mode": {
    "name": "ipython",
    "version": 3
   },
   "file_extension": ".py",
   "mimetype": "text/x-python",
   "name": "python",
   "nbconvert_exporter": "python",
   "pygments_lexer": "ipython3",
   "version": "3.8.6"
  }
 },
 "nbformat": 4,
 "nbformat_minor": 4
}
