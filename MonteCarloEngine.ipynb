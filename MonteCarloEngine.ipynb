{
 "cells": [
  {
   "cell_type": "code",
   "execution_count": 3,
   "metadata": {},
   "outputs": [],
   "source": [
    "import chess\n",
    "import random\n",
    "from IPython.display import clear_output\n",
    "import time\n",
    "import numpy as np\n",
    "\n",
    "C = np.sqrt(2)"
   ]
  },
  {
   "cell_type": "code",
   "execution_count": 13,
   "metadata": {},
   "outputs": [],
   "source": [
    "class Node:\n",
    "    def __init__(self, board, parent=None):\n",
    "        self.state = board\n",
    "        self.utility = 0\n",
    "        self.n_playthrough = 0\n",
    "        self.parent = parent\n",
    "        self.children = list()\n",
    "        \n",
    "    def UCB1(self):\n",
    "        return self.utility/self.n_playthrough + C + np.sqrt(np.log(parent.n_playthrough)/self.n_playthrough)\n",
    "    "
   ]
  },
  {
   "cell_type": "code",
   "execution_count": 11,
   "metadata": {
    "pycharm": {
     "name": "#%%\n"
    }
   },
   "outputs": [],
   "source": [
    "class MonteCarloAgent:\n",
    "    \n",
    "    # main function for the Monte Carlo Tree Search\n",
    "    def monte_carlo_tree_search(state):\n",
    "        tree = Node(state)\n",
    "        for i in range(100):\n",
    "            leaf = select(tree)\n",
    "            child = expand(leaf)\n",
    "            result = simulate(child)\n",
    "            if result.winner is state.turn:                \n",
    "                back_prop(1, child)\n",
    "            else:\n",
    "                back_prop(0, child)\n",
    "\n",
    "        return best_move(tree.state.legal_moves)\n",
    "    \n",
    "    def select(tree):\n",
    "        return max(tree.children, key=lambda k: k.UCB1())\n",
    "    \n",
    "    def expand(leaf):\n",
    "        for move in tree.state.legal_moves:\n",
    "            leaf.state.push(move)\n",
    "            leaf.children.append(Node(leaf.state.copy()))\n",
    "            leaf.state.pop()\n",
    "        return random.choice(leaf.children)\n",
    "    \n",
    "    def result(child):\n",
    "        _board = child.state.copy()\n",
    "        while not _child.state.is_game_over():\n",
    "            move = random.choice(_board.legal_moves)\n",
    "            _board.push(move)\n",
    "        return _board.outcome()\n",
    "        \n",
    "    def backprop(result, child):\n",
    "        if not child:\n",
    "            return\n",
    "        child.n_playthrough += 1\n",
    "        child.utility += result\n",
    "        backprop(result, child.parent)"
   ]
  },
  {
   "cell_type": "code",
   "execution_count": 6,
   "metadata": {},
   "outputs": [],
   "source": [
    "?chess.Board"
   ]
  },
  {
   "cell_type": "code",
   "execution_count": 8,
   "metadata": {},
   "outputs": [],
   "source": [
    "for i in range(10000000):\n",
    "    a = 1"
   ]
  },
  {
   "cell_type": "code",
   "execution_count": null,
   "metadata": {},
   "outputs": [],
   "source": []
  }
 ],
 "metadata": {
  "kernelspec": {
   "display_name": "Python 3",
   "language": "python",
   "name": "python3"
  },
  "language_info": {
   "codemirror_mode": {
    "name": "ipython",
    "version": 3
   },
   "file_extension": ".py",
   "mimetype": "text/x-python",
   "name": "python",
   "nbconvert_exporter": "python",
   "pygments_lexer": "ipython3",
   "version": "3.8.8"
  }
 },
 "nbformat": 4,
 "nbformat_minor": 4
}
