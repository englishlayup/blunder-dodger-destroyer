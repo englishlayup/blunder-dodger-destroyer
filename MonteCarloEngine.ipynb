{
 "cells": [
  {
   "cell_type": "code",
   "execution_count": 1,
   "metadata": {},
   "outputs": [],
   "source": [
    "import chess\n",
    "import gym_chess\n",
    "import gym\n",
    "import random\n",
    "from IPython.display import display, clear_output\n",
    "import time\n",
    "import numpy as np\n",
    "\n",
    "C = np.sqrt(2)\n"
   ]
  },
  {
   "cell_type": "code",
   "execution_count": 2,
   "metadata": {},
   "outputs": [],
   "source": [
    "select_t = 0\n",
    "expand_t = 0\n",
    "simulate_t = 0\n",
    "backprop_t = 0\n",
    "total_t = 0"
   ]
  },
  {
   "cell_type": "code",
   "execution_count": 3,
   "metadata": {},
   "outputs": [],
   "source": [
    "class Node:\n",
    "    def __init__(self, board, parent=None):\n",
    "        self.state = board\n",
    "        self.utility = 0\n",
    "        self.n_playthrough = 0\n",
    "        self.parent = parent\n",
    "        self.children = list()\n",
    "        \n",
    "    def UCB1(self):\n",
    "        return self.utility/self.n_playthrough + C*np.sqrt(np.log(self.parent.n_playthrough)/self.n_playthrough)\n",
    "    \n",
    "    def peek(self):\n",
    "        return self.state.peek()\n"
   ]
  },
  {
   "cell_type": "code",
   "execution_count": 18,
   "metadata": {
    "pycharm": {
     "name": "#%%\n"
    }
   },
   "outputs": [],
   "source": [
    "class MonteCarloAgent:\n",
    "    # main function for the Monte Carlo Tree Search\n",
    "    def monte_carlo_tree_search(self, state):\n",
    "        global select_t\n",
    "        global expand_t\n",
    "        global simulate_t\n",
    "        global backprop_t\n",
    "        global total_t\n",
    "        \n",
    "        tree = Node(state)\n",
    "        for i in range(5000):\n",
    "            start = time.perf_counter()\n",
    "            leaf = self.select(tree)\n",
    "            end = time.perf_counter()\n",
    "            select_t += end - start\n",
    "            \n",
    "            start = time.perf_counter()\n",
    "            child = self.expand(leaf)\n",
    "            end = time.perf_counter()\n",
    "            expand_t += end - start\n",
    "            \n",
    "            start = time.perf_counter()\n",
    "            result = self.simulate(child)\n",
    "            end = time.perf_counter()\n",
    "            simulate_t += end - start\n",
    "            \n",
    "            start = time.perf_counter()\n",
    "            if not result == state.turn:\n",
    "                self.back_prop(0, child)\n",
    "            else:\n",
    "                self.back_prop(1, child)\n",
    "            end = time.perf_counter()\n",
    "            backprop_t += end - start\n",
    "            \n",
    "        best_child = max(tree.children, key=lambda k: k.n_playthrough)\n",
    "        return best_child.peek(), best_child.UCB1()\n",
    "    \n",
    "    def select(self, tree):\n",
    "        while tree.children:\n",
    "            tree = self.select(max(tree.children, key=lambda k: k.UCB1()))\n",
    "        \n",
    "        return tree\n",
    "    \n",
    "    def expand(self, leaf):\n",
    "        assert not leaf.children, 'This guy is not a leaf'\n",
    "        _board = leaf.state.copy()\n",
    "        if _board.legal_moves:\n",
    "            move = random.choice(list(_board.legal_moves))\n",
    "            _board.push(move) \n",
    "            leaf.children.append(Node(_board, leaf))\n",
    "            return leaf.children[0]        \n",
    "        # if the current node is checkmated, i.e. no legal moves\n",
    "        # then return the current node \n",
    "        return leaf\n",
    "    \n",
    "    def simulate(self, child):\n",
    "        _board = child.state.copy()\n",
    "        while not _board.is_game_over():\n",
    "            move = random.choice(list(_board.legal_moves))\n",
    "            _board.push(move)\n",
    "            \n",
    "            # simulate would take forever without this if statement\n",
    "            # basically the game would go on forever with 2 kings moving around without this check\n",
    "            if not _board.has_insufficient_material(_board.turn) or _board.can_claim_fifty_moves():\n",
    "                return not _board.turn\n",
    "            \n",
    "        return _board.outcome().winner\n",
    "        \n",
    "    def back_prop(self, result, child):\n",
    "        while child:\n",
    "            child.n_playthrough += 1\n",
    "            child.utility += result\n",
    "            child = child.parent"
   ]
  },
  {
   "cell_type": "code",
   "execution_count": null,
   "metadata": {},
   "outputs": [
    {
     "name": "stdout",
     "output_type": "stream",
     "text": [
      "♜ ♞ ♝ ♛ ♚ ♝ ♞ ♜\n",
      "♟ ♟ ♟ ♟ ♟ ♟ ♟ ♟\n",
      "⭘ ⭘ ⭘ ⭘ ⭘ ⭘ ⭘ ⭘\n",
      "⭘ ⭘ ⭘ ⭘ ⭘ ⭘ ⭘ ⭘\n",
      "⭘ ⭘ ⭘ ⭘ ⭘ ⭘ ⭘ ⭘\n",
      "⭘ ⭘ ⭘ ⭘ ⭘ ⭘ ⭘ ⭘\n",
      "♙ ♙ ♙ ♙ ♙ ♙ ♙ ♙\n",
      "♖ ♘ ♗ ♕ ♔ ♗ ♘ ♖\n",
      "True\n"
     ]
    }
   ],
   "source": [
    "env = gym.make('Chess-v0')\n",
    "env.reset()\n",
    "print(env.render())\n",
    "done = False\n",
    "agent = MonteCarloAgent()\n",
    "\n",
    "select_t = 0\n",
    "expand_t = 0\n",
    "simulate_t = 0\n",
    "backprop_t = 0\n",
    "total_t = 0\n",
    "\n",
    "while not done:\n",
    "    clear_output(wait=True)\n",
    "    print(env.render())\n",
    "    print(f'{env._observation().turn}')\n",
    "    if env._observation().turn:\n",
    "        start = time.perf_counter()\n",
    "        action, score = agent.monte_carlo_tree_search(env._observation())\n",
    "        end = time.perf_counter()\n",
    "        total_t += end - start\n",
    "    else:\n",
    "        action = random.choice(env.legal_moves)\n",
    "    observation, reward, done, _ = env.step(action)\n",
    "    \n",
    "print(reward)\n",
    "env.close()\n",
    "    "
   ]
  },
  {
   "cell_type": "code",
   "execution_count": 13,
   "metadata": {},
   "outputs": [
    {
     "data": {
      "text/plain": [
       "'Time to select: 20.455771900000627'"
      ]
     },
     "execution_count": 13,
     "metadata": {},
     "output_type": "execute_result"
    }
   ],
   "source": [
    "f'Time to select: {select_t}'"
   ]
  },
  {
   "cell_type": "code",
   "execution_count": 14,
   "metadata": {},
   "outputs": [
    {
     "data": {
      "text/plain": [
       "'Time to expand: 13.402560300000289'"
      ]
     },
     "execution_count": 14,
     "metadata": {},
     "output_type": "execute_result"
    }
   ],
   "source": [
    "f'Time to expand: {expand_t}'"
   ]
  },
  {
   "cell_type": "code",
   "execution_count": 15,
   "metadata": {},
   "outputs": [
    {
     "data": {
      "text/plain": [
       "'Time to simulate: 14.720337600001187'"
      ]
     },
     "execution_count": 15,
     "metadata": {},
     "output_type": "execute_result"
    }
   ],
   "source": [
    "f'Time to simulate: {simulate_t}'"
   ]
  },
  {
   "cell_type": "code",
   "execution_count": 16,
   "metadata": {},
   "outputs": [
    {
     "data": {
      "text/plain": [
       "'Time to backprop: 1.27604859999866'"
      ]
     },
     "execution_count": 16,
     "metadata": {},
     "output_type": "execute_result"
    }
   ],
   "source": [
    "f'Time to backprop: {backprop_t}'"
   ]
  },
  {
   "cell_type": "code",
   "execution_count": 17,
   "metadata": {},
   "outputs": [
    {
     "data": {
      "text/plain": [
       "'Total time: 46.709617500000036'"
      ]
     },
     "execution_count": 17,
     "metadata": {},
     "output_type": "execute_result"
    }
   ],
   "source": [
    "f'Total time: {total_t}'"
   ]
  },
  {
   "cell_type": "code",
   "execution_count": null,
   "metadata": {},
   "outputs": [],
   "source": []
  }
 ],
 "metadata": {
  "kernelspec": {
   "display_name": "Python 3 (ipykernel)",
   "language": "python",
   "name": "python3"
  },
  "language_info": {
   "codemirror_mode": {
    "name": "ipython",
    "version": 3
   },
   "file_extension": ".py",
   "mimetype": "text/x-python",
   "name": "python",
   "nbconvert_exporter": "python",
   "pygments_lexer": "ipython3",
   "version": "3.8.6"
  }
 },
 "nbformat": 4,
 "nbformat_minor": 4
}
