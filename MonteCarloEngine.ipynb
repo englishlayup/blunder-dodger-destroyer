{
 "cells": [
  {
   "cell_type": "code",
   "execution_count": 1,
   "metadata": {},
   "outputs": [],
   "source": [
    "import chess\n",
    "import gym_chess\n",
    "import gym\n",
    "import random\n",
    "from IPython.display import display, clear_output\n",
    "import time\n",
    "import numpy as np\n",
    "\n",
    "C = np.sqrt(2)"
   ]
  },
  {
   "cell_type": "code",
   "execution_count": 54,
   "metadata": {},
   "outputs": [],
   "source": [
    "class Node:\n",
    "    def __init__(self, board, parent=None):\n",
    "        self.state = board\n",
    "        self.utility = 0\n",
    "        self.n_playthrough = 1\n",
    "        self.parent = parent\n",
    "        self.children = list()\n",
    "        \n",
    "    def UCB1(self):\n",
    "        return self.utility/self.n_playthrough + C*np.sqrt(np.log(self.parent.n_playthrough)/self.n_playthrough)\n",
    "    \n",
    "    def peek(self):\n",
    "        return self.state.peek()\n",
    "    \n",
    "    def has_children(self):\n",
    "        return bool(self.children)\n"
   ]
  },
  {
   "cell_type": "code",
   "execution_count": 77,
   "metadata": {
    "pycharm": {
     "name": "#%%\n"
    }
   },
   "outputs": [],
   "source": [
    "class MonteCarloAgent:\n",
    "    \n",
    "    # main function for the Monte Carlo Tree Search\n",
    "    def monte_carlo_tree_search(self, state):\n",
    "        tree = Node(state)\n",
    "        for i in range(100):\n",
    "            leaf = self.select(tree)\n",
    "            child = self.expand(leaf)\n",
    "            result = self.simulate(child)\n",
    "            \n",
    "            if result.winner is state.turn:\n",
    "                self.back_prop(1, child)\n",
    "            else:\n",
    "                self.back_prop(0, child)\n",
    "                \n",
    "        return max(tree.children, key=lambda k: k.n_playthrough).peek()\n",
    "    \n",
    "    def select(self, tree):\n",
    "        if tree.children:\n",
    "            return self.select(max(tree.children, key=lambda k: k.UCB1()))\n",
    "        else:\n",
    "            return tree\n",
    "    \n",
    "    def expand(self, leaf):\n",
    "        move = random.choice(list(leaf.state.legal_moves))\n",
    "        leaf.state.push(move) \n",
    "        leaf.children.append(Node(leaf.state.copy(), leaf))\n",
    "        leaf.state.pop()\n",
    "        return leaf.children[0]\n",
    "    \n",
    "    def simulate(self, child):\n",
    "        _board = child.state.copy()\n",
    "        while not _board.is_game_over():\n",
    "            move = random.choice(list(_board.legal_moves))\n",
    "            _board.push(move)\n",
    "        return _board.outcome()\n",
    "        \n",
    "    def back_prop(self, result, child):\n",
    "        if not child:\n",
    "            return\n",
    "        child.n_playthrough += 1\n",
    "        child.utility += result\n",
    "        self.back_prop(result, child.parent)"
   ]
  },
  {
   "cell_type": "code",
   "execution_count": null,
   "metadata": {},
   "outputs": [
    {
     "name": "stdout",
     "output_type": "stream",
     "text": [
      "⭘ ⭘ ⭘ ♛ ⭘ ♝ ⭘ ⭘\n",
      "⭘ ♚ ⭘ ♞ ♟ ♟ ⭘ ♜\n",
      "♜ ♟ ⭘ ♟ ♝ ⭘ ⭘ ♕\n",
      "♟ ♙ ♟ ♙ ⭘ ⭘ ⭘ ⭘\n",
      "⭘ ⭘ ⭘ ⭘ ♙ ♙ ♟ ⭘\n",
      "♘ ⭘ ♘ ⭘ ⭘ ⭘ ⭘ ♙\n",
      "♙ ⭘ ♙ ⭘ ⭘ ⭘ ♙ ⭘\n",
      "⭘ ♖ ⭘ ♔ ⭘ ♗ ⭘ ♖\n"
     ]
    }
   ],
   "source": [
    "env = gym.make('Chess-v0')\n",
    "env.reset()\n",
    "print(env.render())\n",
    "done = False\n",
    "agent = MonteCarloAgent()\n",
    "\n",
    "while not done:\n",
    "    clear_output(wait=True)\n",
    "    action = agent.monte_carlo_tree_search(env._observation())\n",
    "    observation, reward, done, _ = env.step(action)\n",
    "    print(env.render())\n",
    "    "
   ]
  },
  {
   "cell_type": "code",
   "execution_count": null,
   "metadata": {},
   "outputs": [],
   "source": []
  }
 ],
 "metadata": {
  "kernelspec": {
   "display_name": "Python 3 (ipykernel)",
   "language": "python",
   "name": "python3"
  },
  "language_info": {
   "codemirror_mode": {
    "name": "ipython",
    "version": 3
   },
   "file_extension": ".py",
   "mimetype": "text/x-python",
   "name": "python",
   "nbconvert_exporter": "python",
   "pygments_lexer": "ipython3",
   "version": "3.8.6"
  }
 },
 "nbformat": 4,
 "nbformat_minor": 4
}
