{
 "cells": [
  {
   "cell_type": "code",
   "execution_count": 1,
   "id": "810359e4-5c33-452d-b105-da4b0627de49",
   "metadata": {},
   "outputs": [],
   "source": [
    "#importing libraries\n",
    "import random\n",
    "from IPython.display import clear_output, display\n",
    "import time\n",
    "import chess"
   ]
  },
  {
   "cell_type": "code",
   "execution_count": 2,
   "id": "2898234d-4ac2-4d4a-84c8-78392f6f08b0",
   "metadata": {},
   "outputs": [],
   "source": [
    "#Defining the Node\n",
    "class Node:\n",
    "    def __init__(self, alpha, beta):\n",
    "        self.alpha = alpha\n",
    "        self.beta = beta"
   ]
  },
  {
   "cell_type": "code",
   "execution_count": 3,
   "id": "44afaa7e-c519-4ff9-991c-c4fd4e71eb88",
   "metadata": {},
   "outputs": [],
   "source": [
    "#Defining constants\n",
    "pawn_value = 100\n",
    "knight_value = 300\n",
    "bishop_value = 300\n",
    "rook_value = 500\n",
    "queen_value = 900"
   ]
  },
  {
   "cell_type": "code",
   "execution_count": 8,
   "id": "216fea7b-0095-49a0-b0e4-f73ec28e40c2",
   "metadata": {},
   "outputs": [],
   "source": [
    "\n",
    "\n",
    "def cal_material(observation, turn):\n",
    "    total = 0\n",
    "    \n",
    "    #number of pawns\n",
    "    total += len(observation.pieces(chess.PAWN, turn)) * pawn_value\n",
    "    #number of white knights\n",
    "    total += len(observation.pieces(chess.KNIGHT, turn)) * knight_value\n",
    "    #number of bishops\n",
    "    total += len(observation.pieces(chess.BISHOP, turn)) * bishop_value\n",
    "    #number of rooks \n",
    "    total += len(observation.pieces(chess.ROOK, turn)) * rook_value\n",
    "    #number of queens\n",
    "    total += len(observation.pieces(chess.QUEEN, turn)) * queen_value\n",
    "    \n",
    "    return total\n",
    "\n",
    "\n",
    "#function to evaluate the board\n",
    "def evaluate_board(obvservation):\n",
    "    #get sum of both sides points\n",
    "    white_eval = cal_material(observation, chess.WHITE)\n",
    "    black_eval = cal_material(observation, chess.BLACK)\n",
    "    \n",
    "    #Negative board value means black is leading, positive means white\n",
    "    evaluation = white_eval - black_eval\n",
    "    \n",
    "    #if it is black's turn flip the sign so that better is positive instead of negative\n",
    "    perspective = 1\n",
    "    if not observation.turn: \n",
    "        perspective *= -1 \n",
    "    \n",
    "    return evaluation*perspective\n",
    "\n",
    "    #end result will be:\n",
    "        #if it is white's turn, positive is better negative is better\n",
    "        #if it is black's turn, positive is better and negative is better\n",
    "    \n"
   ]
  },
  {
   "cell_type": "code",
   "execution_count": 5,
   "id": "721fa556-27dc-45d5-8da4-f437f89aa0b7",
   "metadata": {},
   "outputs": [],
   "source": [
    "#Search Function\n",
    "def search(observation, depth, alpha, beta):\n",
    "    if depth == 0:\n",
    "        return search_all_captures(observation, alpha, beta)\n",
    "    \n",
    "    moves = observation.legal_moves\n",
    "    if observation.is_checkmate():\n",
    "        return -1e9\n",
    "    if observation.is_stalemate():\n",
    "        return 0\n",
    "    \n",
    "    best_eval = -1e9\n",
    "    \n",
    "    for x in moves:\n",
    "        observation.push(x)\n",
    "        evaluation = search(observation, depth - 1, -beta, -alpha)\n",
    "        best_eval = max(evaluation, best_eval)\n",
    "        observation.pop()\n",
    "        \n",
    "        if evaluation >= beta:\n",
    "            return beta\n",
    "        \n",
    "        alpha = max(alpha, evaluation)\n",
    "    return alpha\n",
    "\n",
    "def search_all_captures(observation, alpha, beta):\n",
    "        evaluation = evaluate_board(observation)\n",
    "\n",
    "        if evaluation >= beta:\n",
    "            return beta\n",
    "        alpha = max(alpha, evaluation)\n",
    "\n",
    "        capture_moves = observation.legal_moves\n",
    "\n",
    "        for x in capture_moves: \n",
    "            \n",
    "            #this leaves capture_moves as a list with only the legal moves resulting in captures\n",
    "            if not is_capture(x):\n",
    "                capture_moves.remove(x) \n",
    "\n",
    "            observation.push(x)\n",
    "            evaluation = -searchAllCaptures(-beta, -alpha)\n",
    "            observation.pop()\n",
    "\n",
    "            if evaluation >= beta:\n",
    "                return beta\n",
    "            alpha = max(alpha, evaluation)\n",
    "\n",
    "        return alpha\n",
    "    "
   ]
  },
  {
   "cell_type": "code",
   "execution_count": 6,
   "id": "0b2cf84b-f20d-479c-9b11-6e307cb22bc5",
   "metadata": {},
   "outputs": [
    {
     "ename": "NameError",
     "evalue": "name 'AlphaBetaAgent' is not defined",
     "output_type": "error",
     "traceback": [
      "\u001b[0;31m---------------------------------------------------------------------------\u001b[0m",
      "\u001b[0;31mNameError\u001b[0m                                 Traceback (most recent call last)",
      "\u001b[0;32m<ipython-input-6-c3b7af6088a0>\u001b[0m in \u001b[0;36m<module>\u001b[0;34m\u001b[0m\n\u001b[1;32m      4\u001b[0m \u001b[0mSCENARIO_2\u001b[0m \u001b[0;34m=\u001b[0m \u001b[0;34m'8/3k4/8/8/8/3K4/3R4/3R4 w - - 0 1'\u001b[0m\u001b[0;34m\u001b[0m\u001b[0;34m\u001b[0m\u001b[0m\n\u001b[1;32m      5\u001b[0m \u001b[0;34m\u001b[0m\u001b[0m\n\u001b[0;32m----> 6\u001b[0;31m \u001b[0magent\u001b[0m \u001b[0;34m=\u001b[0m \u001b[0mAlphaBetaAgent\u001b[0m\u001b[0;34m(\u001b[0m\u001b[0;34m)\u001b[0m\u001b[0;34m\u001b[0m\u001b[0;34m\u001b[0m\u001b[0m\n\u001b[0m\u001b[1;32m      7\u001b[0m \u001b[0mboard\u001b[0m \u001b[0;34m=\u001b[0m \u001b[0mchess\u001b[0m\u001b[0;34m.\u001b[0m\u001b[0mBoard\u001b[0m\u001b[0;34m(\u001b[0m\u001b[0mSCENARIO_2\u001b[0m\u001b[0;34m)\u001b[0m\u001b[0;34m\u001b[0m\u001b[0;34m\u001b[0m\u001b[0m\n\u001b[1;32m      8\u001b[0m \u001b[0;34m\u001b[0m\u001b[0m\n",
      "\u001b[0;31mNameError\u001b[0m: name 'AlphaBetaAgent' is not defined"
     ]
    }
   ],
   "source": [
    "import chess.svg\n",
    "\n",
    "SCENARIO_1 = '4k3/4P3/3PK3/8/8/8/8/8 w - - 0 1'\n",
    "SCENARIO_2 = '8/3k4/8/8/8/3K4/3R4/3R4 w - - 0 1'\n",
    "\n",
    "agent = AlphaBetaAgent()\n",
    "board = chess.Board(SCENARIO_2)\n",
    "\n",
    "# with cProfile.Profile() as pr:\n",
    "while not board.is_game_over():\n",
    "    clear_output(wait=True)\n",
    "    display(chess.svg.board(board, size=350))\n",
    "    display(f'{board.turn}')\n",
    "    display(f'n_playthrough={n}')\n",
    "    if board.turn:\n",
    "        action, n = agent.get_action(board.copy(stack=False))\n",
    "    else:\n",
    "        action = random.choice(list(board.legal_moves))\n",
    "    board.push(action)\n",
    "\n",
    "display(chess.svg.board(board, size=350))\n",
    "# board.outcome()\n",
    "display(f'n_playthrough={n}')"
   ]
  },
  {
   "cell_type": "code",
   "execution_count": null,
   "id": "80491ee3-9cd8-4e43-8db4-9d1f6b7eb79f",
   "metadata": {},
   "outputs": [],
   "source": []
  }
 ],
 "metadata": {
  "kernelspec": {
   "display_name": "Python 3",
   "language": "python",
   "name": "python3"
  },
  "language_info": {
   "codemirror_mode": {
    "name": "ipython",
    "version": 3
   },
   "file_extension": ".py",
   "mimetype": "text/x-python",
   "name": "python",
   "nbconvert_exporter": "python",
   "pygments_lexer": "ipython3",
   "version": "3.8.8"
  }
 },
 "nbformat": 4,
 "nbformat_minor": 5
}
